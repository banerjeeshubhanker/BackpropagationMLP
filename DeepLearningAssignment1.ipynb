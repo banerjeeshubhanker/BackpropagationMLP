{
 "cells": [
  {
   "cell_type": "markdown",
   "id": "parliamentary-favorite",
   "metadata": {},
   "source": [
    "# # Logistic Regression"
   ]
  },
  {
   "cell_type": "markdown",
   "id": "second-rating",
   "metadata": {},
   "source": [
    "Logistic regression is a machine learning algorithm that build on the linear regression by introducing non-linearity in the form a sigmoid function to it. Essentially speaking the output of a linear regressor which can be described as a linear combination of features and parameters is fed to a sigmoid function and the a probability measure is calculated. The non-linearity introduced in the form of sigmoid function helps in learning non-linear decision boundaries and ouput of the sigmoid serves as a measure of the probability of a class. In this implementation I have used an iterative gradient based algorithm, known as the gradient descent in order to optimize the parameters of the sigmoid function in order to learn the most optimal decsision boundary on the basis  of the given data. I have specifically used cross-entropy to calculate the loss between the predicted output and the actual output and tried to minimize that loss by using a variant of gradient descent known as stochastic gradient descent which minimizes the loss over a random datapoint from the training data in each epoch to learn the most optimal parameters."
   ]
  },
  {
   "cell_type": "code",
   "execution_count": 1,
   "id": "passive-organic",
   "metadata": {},
   "outputs": [],
   "source": [
    "import numpy as np\n",
    "import matplotlib.pyplot as plt\n",
    "import pandas as pd\n",
    "import random\n",
    "import math\n",
    "from random import randrange"
   ]
  },
  {
   "cell_type": "code",
   "execution_count": 2,
   "id": "physical-crime",
   "metadata": {},
   "outputs": [],
   "source": [
    "class LogisticRegression:\n",
    "    def __init__(self, X_train, Y_train):\n",
    "        self.X_train = X_train\n",
    "        self.Y_train = Y_train\n",
    "        self.weights = np.random.random_sample(size = X_train.shape[1])\n",
    "        self.bias = np.random.random_sample(size = 1)\n",
    "        self.threshold = math.pow(10,-8)\n",
    "    \n",
    "    def predict(self,x):\n",
    "        return 1/(1+math.exp(-1*(np.matmul(self.weights, x.T)+self.bias)))\n",
    "    \n",
    "    def evaluate(self,x):\n",
    "        if 1/(1+math.exp(-1*(np.matmul(self.weights, x.T)+self.bias)))>0.5:\n",
    "            return 1\n",
    "        else:\n",
    "            return 0\n",
    "        \n",
    "    def cost(self, y_pred, y_actual):\n",
    "        cost = y_actual*(math.log(y_pred,10))+(1-y_actual)*(math.log((1-y_pred),10))\n",
    "        return cost\n",
    "    \n",
    "    def train(self, n_epochs, learning_rate):\n",
    "        past_cost = 0\n",
    "        prsent_cost = 0\n",
    "        for i in range(n_epochs):\n",
    "            res = (self.X_train.shape[0])\n",
    "            random_datapoint = random.randint(0,res-1)\n",
    "            y_pred = self.predict(self.X_train[random_datapoint,:])\n",
    "            y_actual = self.Y_train[random_datapoint]\n",
    "            present_cost = self.cost(y_pred = y_pred, y_actual = y_actual)\n",
    "            if abs(present_cost - past_cost) > self.threshold:\n",
    "                for j in range(len(self.weights)):\n",
    "                    self.weights[j] = self.weights[j] - learning_rate*((self.predict(self.X_train[random_datapoint,:])-self.Y_train[random_datapoint])*(self.X_train[random_datapoint,j]))\n",
    "                self.bias = self.bias - learning_rate*(self.predict(self.X_train[random_datapoint,:])-self.Y_train[random_datapoint])\n",
    "                past_cost = present_cost\n",
    "            else:\n",
    "                break"
   ]
  },
  {
   "cell_type": "code",
   "execution_count": 670,
   "id": "contained-legislature",
   "metadata": {},
   "outputs": [],
   "source": [
    "data = pd.read_csv(\"blobs250.csv\")"
   ]
  },
  {
   "cell_type": "code",
   "execution_count": 671,
   "id": "worse-south",
   "metadata": {},
   "outputs": [],
   "source": [
    "Y = data.loc[:,[\"Class\"]]"
   ]
  },
  {
   "cell_type": "code",
   "execution_count": 672,
   "id": "induced-acoustic",
   "metadata": {},
   "outputs": [],
   "source": [
    "X = data.loc[:, ['X0', 'X1', 'X2']]"
   ]
  },
  {
   "cell_type": "code",
   "execution_count": 673,
   "id": "loving-syntax",
   "metadata": {},
   "outputs": [],
   "source": [
    "X = X.values"
   ]
  },
  {
   "cell_type": "code",
   "execution_count": 674,
   "id": "premium-timber",
   "metadata": {},
   "outputs": [],
   "source": [
    "Y = Y.values"
   ]
  },
  {
   "cell_type": "markdown",
   "id": "weekly-canberra",
   "metadata": {},
   "source": [
    "# Data split"
   ]
  },
  {
   "cell_type": "markdown",
   "id": "social-logan",
   "metadata": {},
   "source": [
    "I have used my own data split function written using numpy and not used scikitlearn's implementation. This splits the data in 85-15-15 ratio for training-test-validation sets."
   ]
  },
  {
   "cell_type": "code",
   "execution_count": 8,
   "id": "christian-external",
   "metadata": {},
   "outputs": [],
   "source": [
    "def data_split(X,Y):\n",
    "    indices = np.random.choice(range(X.shape[0]), int(0.85*X.shape[0]), replace=False)\n",
    "    indices_validation = np.random.choice(indices, size=int(0.15*X.shape[0]), replace = False)\n",
    "    X_train = []\n",
    "    Y_train = []\n",
    "    X_test = []\n",
    "    Y_test = []\n",
    "    X_valid = []\n",
    "    Y_valid = []\n",
    "    for i in range(len(X)):\n",
    "        if i in indices_validation:\n",
    "            X_valid.append(X[i])\n",
    "            Y_valid.append(Y[i])\n",
    "        elif i in indices and i not in indices_validation:\n",
    "            X_train.append(X[i])\n",
    "            Y_train.append(Y[i])\n",
    "        else:\n",
    "            X_test.append(X[i])\n",
    "            Y_test.append(Y[i])\n",
    "    X_train = np.array(X_train)\n",
    "    Y_train = np.array(Y_train)\n",
    "    X_test = np.array(X_test)\n",
    "    Y_test = np.array(Y_test)\n",
    "    X_valid = np.array(X_valid)\n",
    "    Y_valid = np.array(Y_valid)\n",
    "    return X_train, Y_train, X_test, Y_test, X_valid, Y_valid\n"
   ]
  },
  {
   "cell_type": "code",
   "execution_count": 675,
   "id": "assigned-launch",
   "metadata": {},
   "outputs": [],
   "source": [
    "X_train, Y_train, X_test, Y_test, X_valid, Y_valid = data_split(X,Y)"
   ]
  },
  {
   "cell_type": "code",
   "execution_count": 10,
   "id": "cubic-mumbai",
   "metadata": {},
   "outputs": [],
   "source": [
    "obj = LogisticRegression(X_train,Y_train)"
   ]
  },
  {
   "cell_type": "code",
   "execution_count": 11,
   "id": "demographic-italian",
   "metadata": {},
   "outputs": [],
   "source": [
    "obj.train(n_epochs = 50, learning_rate = 0.01)"
   ]
  },
  {
   "cell_type": "code",
   "execution_count": 12,
   "id": "previous-liquid",
   "metadata": {},
   "outputs": [
    {
     "name": "stderr",
     "output_type": "stream",
     "text": [
      "<ipython-input-12-47d486ab2c70>:4: DeprecationWarning: np.asscalar(a) is deprecated since NumPy v1.16, use a.item() instead\n",
      "  valid_error = valid_error + abs(res-np.asscalar(Y_valid[i]))\n"
     ]
    }
   ],
   "source": [
    "valid_error = 0\n",
    "for i in range(len(X_valid)):\n",
    "    res = obj.evaluate(X_valid[i])\n",
    "    valid_error = valid_error + abs(res-np.asscalar(Y_valid[i]))"
   ]
  },
  {
   "cell_type": "code",
   "execution_count": 13,
   "id": "equipped-guinea",
   "metadata": {},
   "outputs": [
    {
     "data": {
      "text/plain": [
       "0"
      ]
     },
     "execution_count": 13,
     "metadata": {},
     "output_type": "execute_result"
    }
   ],
   "source": [
    "valid_error"
   ]
  },
  {
   "cell_type": "code",
   "execution_count": 14,
   "id": "tutorial-benjamin",
   "metadata": {},
   "outputs": [
    {
     "name": "stderr",
     "output_type": "stream",
     "text": [
      "<ipython-input-14-0c5557611724>:4: DeprecationWarning: np.asscalar(a) is deprecated since NumPy v1.16, use a.item() instead\n",
      "  test_error = test_error + abs(res-np.asscalar(Y_test[i]))\n"
     ]
    }
   ],
   "source": [
    "test_error = 0\n",
    "for i in range(len(X_test)):\n",
    "    res = obj.evaluate(X_test[i])\n",
    "    test_error = test_error + abs(res-np.asscalar(Y_test[i]))"
   ]
  },
  {
   "cell_type": "code",
   "execution_count": 15,
   "id": "connected-abortion",
   "metadata": {},
   "outputs": [
    {
     "data": {
      "text/plain": [
       "0"
      ]
     },
     "execution_count": 15,
     "metadata": {},
     "output_type": "execute_result"
    }
   ],
   "source": [
    "test_error"
   ]
  },
  {
   "cell_type": "markdown",
   "id": "binary-craft",
   "metadata": {},
   "source": [
    "In the cells above the logistic regression algorithm was used for learning a classifier on the blobs250 dataset. The training data consisted of 175 samples, the test data was made up of 38 samples and 37 samples made up the validation data. The model was trained for 50 epochs using a learning rate of 0.01 and the model was able to achieve a 100% accuracy score on test and validation sets. Thus, logistiic regression was able to find the perfect fit for this dataset. I observed that the model required few epochs and could get excellent results with a high learning rate, and from this observation I conclude that the decision boundary is approximately linear in nature and therefore fitting it is easier."
   ]
  },
  {
   "cell_type": "code",
   "execution_count": 679,
   "id": "large-shoulder",
   "metadata": {},
   "outputs": [],
   "source": [
    "data = pd.read_csv(\"moons400(1).csv\")"
   ]
  },
  {
   "cell_type": "code",
   "execution_count": 680,
   "id": "instrumental-extension",
   "metadata": {},
   "outputs": [],
   "source": [
    "Y = data.loc[:,[\"Class\"]]"
   ]
  },
  {
   "cell_type": "code",
   "execution_count": 681,
   "id": "faced-liechtenstein",
   "metadata": {},
   "outputs": [],
   "source": [
    "X = data.loc[:, ['X0', 'X1']]"
   ]
  },
  {
   "cell_type": "code",
   "execution_count": 682,
   "id": "disciplinary-jacob",
   "metadata": {},
   "outputs": [],
   "source": [
    "X = X.values"
   ]
  },
  {
   "cell_type": "code",
   "execution_count": 683,
   "id": "vanilla-partnership",
   "metadata": {},
   "outputs": [],
   "source": [
    "Y = Y.values"
   ]
  },
  {
   "cell_type": "code",
   "execution_count": 684,
   "id": "experienced-pitch",
   "metadata": {},
   "outputs": [],
   "source": [
    "X_train, Y_train, X_test, Y_test, X_valid, Y_valid = data_split(X,Y)"
   ]
  },
  {
   "cell_type": "code",
   "execution_count": 687,
   "id": "minimal-basics",
   "metadata": {},
   "outputs": [
    {
     "data": {
      "text/plain": [
       "(60, 2)"
      ]
     },
     "execution_count": 687,
     "metadata": {},
     "output_type": "execute_result"
    }
   ],
   "source": [
    "X_valid.shape"
   ]
  },
  {
   "cell_type": "code",
   "execution_count": 686,
   "id": "fewer-robin",
   "metadata": {},
   "outputs": [
    {
     "data": {
      "text/plain": [
       "(60, 2)"
      ]
     },
     "execution_count": 686,
     "metadata": {},
     "output_type": "execute_result"
    }
   ],
   "source": [
    "X_test.shape"
   ]
  },
  {
   "cell_type": "code",
   "execution_count": 685,
   "id": "wooden-cancer",
   "metadata": {},
   "outputs": [
    {
     "data": {
      "text/plain": [
       "(280, 2)"
      ]
     },
     "execution_count": 685,
     "metadata": {},
     "output_type": "execute_result"
    }
   ],
   "source": [
    "X_train.shape"
   ]
  },
  {
   "cell_type": "code",
   "execution_count": 22,
   "id": "minor-thomas",
   "metadata": {},
   "outputs": [],
   "source": [
    "obj = LogisticRegression(X_train,Y_train)"
   ]
  },
  {
   "cell_type": "code",
   "execution_count": 23,
   "id": "vital-documentation",
   "metadata": {},
   "outputs": [],
   "source": [
    "obj.train(n_epochs = 1000, learning_rate = 0.09)"
   ]
  },
  {
   "cell_type": "code",
   "execution_count": 24,
   "id": "cordless-chaos",
   "metadata": {},
   "outputs": [
    {
     "name": "stderr",
     "output_type": "stream",
     "text": [
      "<ipython-input-24-47d486ab2c70>:4: DeprecationWarning: np.asscalar(a) is deprecated since NumPy v1.16, use a.item() instead\n",
      "  valid_error = valid_error + abs(res-np.asscalar(Y_valid[i]))\n"
     ]
    }
   ],
   "source": [
    "valid_error = 0\n",
    "for i in range(len(X_valid)):\n",
    "    res = obj.evaluate(X_valid[i])\n",
    "    valid_error = valid_error + abs(res-np.asscalar(Y_valid[i]))"
   ]
  },
  {
   "cell_type": "code",
   "execution_count": 25,
   "id": "registered-currency",
   "metadata": {},
   "outputs": [
    {
     "data": {
      "text/plain": [
       "5"
      ]
     },
     "execution_count": 25,
     "metadata": {},
     "output_type": "execute_result"
    }
   ],
   "source": [
    "valid_error"
   ]
  },
  {
   "cell_type": "code",
   "execution_count": 26,
   "id": "acknowledged-prefix",
   "metadata": {},
   "outputs": [
    {
     "name": "stderr",
     "output_type": "stream",
     "text": [
      "<ipython-input-26-0c5557611724>:4: DeprecationWarning: np.asscalar(a) is deprecated since NumPy v1.16, use a.item() instead\n",
      "  test_error = test_error + abs(res-np.asscalar(Y_test[i]))\n"
     ]
    }
   ],
   "source": [
    "test_error = 0\n",
    "for i in range(len(X_test)):\n",
    "    res = obj.evaluate(X_test[i])\n",
    "    test_error = test_error + abs(res-np.asscalar(Y_test[i]))"
   ]
  },
  {
   "cell_type": "code",
   "execution_count": 27,
   "id": "recent-license",
   "metadata": {},
   "outputs": [
    {
     "data": {
      "text/plain": [
       "6"
      ]
     },
     "execution_count": 27,
     "metadata": {},
     "output_type": "execute_result"
    }
   ],
   "source": [
    "test_error"
   ]
  },
  {
   "cell_type": "markdown",
   "id": "exotic-crisis",
   "metadata": {},
   "source": [
    "In the cells above the logistic regression algorithm was used for learning a classifier on the blobs250 dataset. The training data consisted of 280 samples, the test data was made up of 60 samples and 60 samples made up the validation data. The validation set was used to optimize the hyperparameter and the number of epochs for which this model is to be trained. It was found that when the model was trained for 1000 epochs using a learning rate of 0.09 then model was able to achieve the best performance with 90% accuracy score on test and approximately 92% on the validation set. The higher number of epochs show that the decision boundary is more difficult and possibly non-linear in nature."
   ]
  },
  {
   "cell_type": "markdown",
   "id": "regional-potter",
   "metadata": {},
   "source": [
    "## Shallow NN"
   ]
  },
  {
   "cell_type": "markdown",
   "id": "conceptual-elizabeth",
   "metadata": {},
   "source": [
    "Neural network follows from the connectionist approach to computing. In neural networks multiple neurons are connected each by weighted connections. It can essentially be thought of as a graph with directed weighted edges. Taking this this approach, the logistic regression algorithm used above can also be thought of as a graph with the output node connected to all the input nodes where each input node represents a afeature of the input vector. The essential difference is that in a neural network the inputs are not directly connected to the output but instead to other nodes which essentially transform the features by applying a linear transformation with a weights followed by non-linearities, the outputs generated by these intermediate nodes are subseque ntly connected to other intermediate nodes by weighted connections and this goes on till the last intermediate layer which then serves as an input to the output layer with a transformed set of features. The main idea behind this approach is that the features transformed withhin these layers successively capture more important information about the data and thus can enable learning of better decsion boundaries or regressions at the output node. The weights are learned by using an iterative algorithm known as gradient descnet which minimzes the loss or the difference between actual and predicted values as a function of the weights iteratively. I have used stochastic gradient descent in my approach which optimizes the loss over a specific datapoint chosen randomly in each iteration."
   ]
  },
  {
   "cell_type": "markdown",
   "id": "royal-spokesman",
   "metadata": {},
   "source": [
    "The algorithm supports multiple hidden layers with two types of activation: sigmoid and Relu and multiple nodes in each layer."
   ]
  },
  {
   "cell_type": "code",
   "execution_count": 573,
   "id": "knowing-brake",
   "metadata": {},
   "outputs": [],
   "source": [
    "class NN:\n",
    "    ##Intilialization Constructor\n",
    "    def __init__(self, X_train, Y_train, n_hidden_layers, hidden_layers_neurons, n_inputs,activation):\n",
    "        if n_hidden_layers == 0:\n",
    "            raise Exception(\"Sorry, there has to be atleast two layers (one input layer and one hidden layer) in the network\")\n",
    "        elif n_hidden_layers >= 1:\n",
    "            activations = []\n",
    "            z_values = []\n",
    "            weights = []\n",
    "            dl_weights = []\n",
    "            dl_biases = []\n",
    "            dl_z_values = []\n",
    "            dl_activations = []\n",
    "            output_weights = []\n",
    "            biases = []\n",
    "            for i in range(len(hidden_layers_neurons)):\n",
    "                activations.append(np.random.random_sample(size = (hidden_layers_neurons[i],1)))\n",
    "                z_values.append(np.random.random_sample(size = (hidden_layers_neurons[i],1)))\n",
    "                biases.append(np.random.random_sample(size = (hidden_layers_neurons[i],1)))\n",
    "                dl_activations.append(np.random.random_sample(size = (hidden_layers_neurons[i],1)))\n",
    "                dl_z_values.append(np.random.random_sample(size = (hidden_layers_neurons[i],1)))\n",
    "                dl_biases.append(np.random.random_sample(size = (hidden_layers_neurons[i],1)))\n",
    "                if i == 0:\n",
    "                    weights.append(np.random.random_sample(size = (hidden_layers_neurons[i],n_inputs))/1000)\n",
    "                    dl_weights.append(np.random.random_sample(size = (hidden_layers_neurons[i],n_inputs))/1000)\n",
    "                else:\n",
    "                    weights.append(np.random.random_sample(size = (hidden_layers_neurons[i],hidden_layers_neurons[i-1])))\n",
    "                    dl_weights.append(np.random.random_sample(size = (hidden_layers_neurons[i],hidden_layers_neurons[i-1])))\n",
    "            ##Values\n",
    "            self.output_weights_nn = np.random.random_sample(size = (1,hidden_layers_neurons[n_hidden_layers-1]))\n",
    "            self.output_hidden_nn = np.random.random_sample(size = (1,1))\n",
    "            self.output_bias_nn = np.random.random_sample(size = (1,1))\n",
    "            self.output_activation_nn = np.random.random_sample(size = (1,1))\n",
    "            self.weights_nn = weights\n",
    "            self.biases_nn = biases\n",
    "            self.z_values_nn = z_values\n",
    "            self.activations_nn = activations\n",
    "            self.X_train = X_train\n",
    "            self.Y_train = Y_train\n",
    "            self.neurons_per_hidden_layer_nn = hidden_layers_neurons\n",
    "            self.number_of_hidden_layers_nn = n_hidden_layers\n",
    "            self.n_inputs_nn = n_inputs\n",
    "            ##Derivatives\n",
    "            self.dl_output_weights_nn = np.random.random_sample(size = (1,hidden_layers_neurons[n_hidden_layers-1]))\n",
    "            self.dl_output_hidden_nn = np.random.random_sample(size = (1,1))\n",
    "            self.dl_output_bias_nn = np.random.random_sample(size = (1,1))\n",
    "            self.dl_output_activation_nn = np.random.random_sample(size = (1,1))\n",
    "            self.dl_weights_nn = dl_weights\n",
    "            self.dl_biases_nn = dl_biases\n",
    "            self.dl_z_values_nn = dl_z_values\n",
    "            self.dl_activations_nn = dl_activations\n",
    "            self.activation_type = activation\n",
    "            \n",
    "    ##The output node, it uses sigmoid to give binary probabilities\n",
    "    def output(self,res):\n",
    "        if res < 0:\n",
    "            return 1 - 1 / (1 + np.exp(res))\n",
    "        return 1 / (1 + np.exp(-res))\n",
    "        \n",
    "    ##Activation Function\n",
    "    def sigmoid(self,res):\n",
    "        if self.activation_type == \"sigmoid\":\n",
    "            if res < 0:\n",
    "                return 1 - 1 / (1 + np.exp(res))\n",
    "            return 1 / (1 + np.exp(-res))\n",
    "        elif self.activation_type == \"relu\":\n",
    "            if res>6:\n",
    "                res = 6\n",
    "            y1 = ((res > 0) * res)                                                 \n",
    "            y2 = ((res <= 0) * res * 0.01)                                         \n",
    "            return y1 + y2  \n",
    "\n",
    "            \n",
    "    ##Derivative of activation function        \n",
    "    def sigmoid_derivative(self,res):\n",
    "        if self.activation_type == \"sigmoid\":\n",
    "            return self.sigmoid(res)*(1-self.sigmoid(res))\n",
    "        elif self.activation_type == \"relu\":\n",
    "            if res < 0:\n",
    "                return 0.01\n",
    "            else:\n",
    "                return 1\n",
    "            \n",
    "    ##Forward Propagation Function        \n",
    "    def forward(self,X):\n",
    "        dim = X.shape[0]\n",
    "        X = X.reshape(1,dim)\n",
    "        hidden_state = X\n",
    "        for i in range(self.number_of_hidden_layers_nn):\n",
    "            hidden_state = np.matmul(hidden_state,self.weights_nn[i].T) + self.biases_nn[i].T\n",
    "            self.z_values_nn[i] = hidden_state.T\n",
    "            self.activations_nn[i] = np.array([self.sigmoid(xi) for xi in hidden_state[0]]).reshape(1,self.neurons_per_hidden_layer_nn[i]).T\n",
    "            hidden_state = self.activations_nn[i].T\n",
    "        self.output_hidden_nn = np.dot(self.output_weights_nn,self.activations_nn[self.number_of_hidden_layers_nn-1]) + self.output_bias_nn\n",
    "        self.output_activation_nn = self.output(np.asscalar(self.output_hidden_nn))\n",
    "        return self.output_activation_nn\n",
    "     \n",
    "    ##Backpropagation Function    \n",
    "    def backward(self,Y,X,learning_rate):\n",
    "        dim = X.shape[0]\n",
    "        X = X.reshape(1,dim)\n",
    "        ##Derivatives of last layer\n",
    "        self.dl_output_hidden_nn = self.output_activation_nn - Y\n",
    "        self.dl_output_weights_nn = self.output_hidden_nn * (self.activations_nn[self.number_of_hidden_layers_nn-1].T)\n",
    "        self.dl_output_bias_nn = self.dl_output_hidden_nn\n",
    "        self.output_weights_nn = self.output_weights_nn - (learning_rate*self.dl_output_weights_nn)\n",
    "        self.output_bias_nn =  self.output_bias_nn - (learning_rate*self.dl_output_bias_nn)\n",
    "        self.output_hidden_nn = self.output_hidden_nn - (learning_rate*self.dl_output_hidden_nn)\n",
    "        \n",
    "        ##Looping back through the hidden layers, with conditions essentially checking how many layers are present\n",
    "        for i in range(self.number_of_hidden_layers_nn-1,-1,-1):\n",
    "            \n",
    "            ## last Hidden layer with hidden layer to the left\n",
    "            if i == self.number_of_hidden_layers_nn-1 and i != 0:\n",
    "                res = self.z_values_nn[i].reshape(1,self.neurons_per_hidden_layer_nn[i])\n",
    "                res = res[0]\n",
    "                res = np.array([self.sigmoid_derivative(xi) for xi in res])\n",
    "                for j in range(self.neurons_per_hidden_layer_nn[self.number_of_hidden_layers_nn-1]):\n",
    "                    sum1 = 0\n",
    "                    sum1 = sum1 + self.dl_output_hidden_nn*self.output_weights_nn[0,j]\n",
    "                    res[j] = res[j]*sum1\n",
    "                res = np.array(res).reshape(self.neurons_per_hidden_layer_nn[i],1)\n",
    "                \n",
    "                ##Derivative wrt hidden state\n",
    "                self.dl_z_values_nn[self.number_of_hidden_layers_nn-1] = res\n",
    "                \n",
    "                ##Derivative wrt biases\n",
    "                self.dl_biases_nn[self.number_of_hidden_layers_nn-1] = res\n",
    "                \n",
    "                ##Derivative wrt weights\n",
    "                self.dl_weights_nn[i] = np.matmul(self.dl_z_values_nn[self.number_of_hidden_layers_nn-1],self.activations_nn[i-1].T)\n",
    "                \n",
    "                ##Updates using learning rate\n",
    "                self.z_values_nn[i] = self.z_values_nn[i]-(learning_rate*self.dl_z_values_nn[i])\n",
    "                self.biases_nn[i] = self.biases_nn[i]-(learning_rate*self.dl_biases_nn[i])\n",
    "                self.weights_nn[i] = self.weights_nn[i]-(learning_rate*self.dl_weights_nn[i])\n",
    "            \n",
    "            ## Last hidden layer with input on the left\n",
    "            elif i == self.number_of_hidden_layers_nn-1 and i == 0:\n",
    "                res = self.z_values_nn[i].reshape(1,self.neurons_per_hidden_layer_nn[i])\n",
    "                res = res[0]\n",
    "                res = np.array([self.sigmoid_derivative(xi) for xi in res])\n",
    "                for j in range(self.neurons_per_hidden_layer_nn[self.number_of_hidden_layers_nn-1]):\n",
    "                    sum1 = 0\n",
    "                    sum1 = sum1 + self.dl_output_hidden_nn*self.output_weights_nn[0,j]\n",
    "                    res[j] = res[j]*sum1\n",
    "                res = np.array(res).reshape(self.neurons_per_hidden_layer_nn[i],1)\n",
    "                self.dl_z_values_nn[self.number_of_hidden_layers_nn-1] = res\n",
    "                self.dl_biases_nn[self.number_of_hidden_layers_nn-1] = res\n",
    "                self.dl_weights_nn[i] = np.matmul(self.dl_z_values_nn[self.number_of_hidden_layers_nn-1],X)\n",
    "                self.z_values_nn[i] = self.z_values_nn[i]-(learning_rate*self.dl_z_values_nn[i])\n",
    "                self.biases_nn[i] = self.biases_nn[i]-(learning_rate*self.dl_biases_nn[i])\n",
    "                self.weights_nn[i] = self.weights_nn[i]-(learning_rate*self.dl_weights_nn[i])\n",
    "            \n",
    "            ## Middle hidden layer with input to the left\n",
    "            elif i < self.number_of_hidden_layers_nn-1 and i == 0:\n",
    "                res = self.z_values_nn[i].reshape(1,self.neurons_per_hidden_layer_nn[i])\n",
    "                res = res[0]\n",
    "                res = np.array([self.sigmoid_derivative(xi) for xi in res])\n",
    "                weights = self.weights_nn[i+1]\n",
    "                hidden = self.z_values_nn[i+1]\n",
    "                hidden = hidden.T\n",
    "                hidden = hidden[0]\n",
    "                weights = weights.T\n",
    "                for j in range(len(weights)):\n",
    "                    intermediate = np.dot(hidden,weights[j])\n",
    "                    res[j] = res[j]*intermediate\n",
    "                res = np.array(res).reshape(self.neurons_per_hidden_layer_nn[i],1)\n",
    "                self.dl_z_values_nn[self.number_of_hidden_layers_nn-1] = res\n",
    "                self.dl_biases_nn[self.number_of_hidden_layers_nn-1] = res\n",
    "                self.dl_weights_nn[i] = np.matmul(self.dl_z_values_nn[i],X)\n",
    "                self.z_values_nn[i] = self.z_values_nn[i]-(learning_rate*self.dl_z_values_nn[i])\n",
    "                self.biases_nn[i] = self.biases_nn[i]-(learning_rate*self.dl_biases_nn[i])\n",
    "                self.weights_nn[i] = self.weights_nn[i]-(learning_rate*self.dl_weights_nn[i])\n",
    "            \n",
    "            ##Middle hidden layer with hidden layer to the left \n",
    "            elif i < self.number_of_hidden_layers_nn-1 and i != 0:\n",
    "                res = self.z_values_nn[i].reshape(1,self.neurons_per_hidden_layer_nn[i])\n",
    "                res = res[0]\n",
    "                res = np.array([self.sigmoid_derivative(xi) for xi in res])\n",
    "                weights = self.weights_nn[i+1]\n",
    "                hidden = self.z_values_nn[i+1]\n",
    "                hidden = self.z_values_nn[i+1]\n",
    "                hidden = hidden.T\n",
    "                hidden = hidden[0]\n",
    "                weights = weights.T\n",
    "                for j in range(len(weights)):\n",
    "                    intermediate = np.dot(hidden,weights[j])\n",
    "                    res[j] = res[j]*intermediate\n",
    "                res = np.array(res).reshape(self.neurons_per_hidden_layer_nn[i],1)\n",
    "                self.dl_z_values_nn[i] = res\n",
    "                self.dl_biases_nn[i] = res\n",
    "                self.dl_weights_nn[i] = np.matmul(self.dl_z_values_nn[i],self.activations_nn[i-1].T)\n",
    "                self.z_values_nn[i] = self.z_values_nn[i]-(learning_rate*self.dl_z_values_nn[i])\n",
    "                self.biases_nn[i] = self.biases_nn[i]-(learning_rate*self.dl_biases_nn[i])\n",
    "                self.weights_nn[i] = self.weights_nn[i]-(learning_rate*self.dl_weights_nn[i])\n",
    "            \n",
    "    ##Training function            \n",
    "    def train(self,learning_rate,n_epochs):\n",
    "        full_loss = []\n",
    "        for i in range(n_epochs):\n",
    "            random_index = randrange(len(self.X_train))\n",
    "            predicted = self.forward(self.X_train[random_index])\n",
    "            actual_Y = self.Y_train[random_index]\n",
    "            loss = -1*(actual_Y*np.log(predicted+0.0000001)+(1-actual_Y)*np.log(1-predicted+0.00000001))\n",
    "            full_loss.append(loss)\n",
    "            self.backward(self.Y_train[random_index],self.X_train[random_index],learning_rate)\n",
    "\n",
    "        x = range(n_epochs)\n",
    "        plt.plot(x, full_loss)\n",
    "        plt.savefig('test.png')\n",
    "        plt.show()\n",
    "    \n",
    "    def evaluate(self,X):\n",
    "        return self.forward(X)\n",
    "                \n",
    "                    \n",
    "                \n",
    "                "
   ]
  },
  {
   "cell_type": "code",
   "execution_count": 580,
   "id": "simplified-actor",
   "metadata": {},
   "outputs": [],
   "source": [
    "data = pd.read_csv(\"blobs250.csv\")\n",
    "Y = data.loc[:,[\"Class\"]]\n",
    "X = data.loc[:, ['X0', 'X1', 'X2']]\n",
    "Y = Y.values.flatten()\n",
    "X = X.values"
   ]
  },
  {
   "cell_type": "code",
   "execution_count": 581,
   "id": "plastic-david",
   "metadata": {},
   "outputs": [],
   "source": [
    "X_train, Y_train, X_test, Y_test, X_valid, Y_valid = data_split(X,Y)"
   ]
  },
  {
   "cell_type": "code",
   "execution_count": 582,
   "id": "broke-salvation",
   "metadata": {},
   "outputs": [],
   "source": [
    "obj = NN(X_train,Y_train,1,[4],3,\"sigmoid\")"
   ]
  },
  {
   "cell_type": "code",
   "execution_count": 583,
   "id": "banner-sudan",
   "metadata": {},
   "outputs": [
    {
     "name": "stderr",
     "output_type": "stream",
     "text": [
      "<ipython-input-573-173b9dbf85d5>:94: DeprecationWarning: np.asscalar(a) is deprecated since NumPy v1.16, use a.item() instead\n",
      "  self.output_activation_nn = self.output(np.asscalar(self.output_hidden_nn))\n"
     ]
    },
    {
     "data": {
      "image/png": "[encoded data removed]",
      "text/plain": [
       "<Figure size 432x288 with 1 Axes>"
      ]
     },
     "metadata": {
      "needs_background": "light"
     },
     "output_type": "display_data"
    }
   ],
   "source": [
    "obj.train(0.0001,100000)"
   ]
  },
  {
   "cell_type": "markdown",
   "id": "egyptian-simpson",
   "metadata": {},
   "source": [
    "Loss Curve"
   ]
  },
  {
   "cell_type": "code",
   "execution_count": 584,
   "id": "approximate-retrieval",
   "metadata": {},
   "outputs": [
    {
     "name": "stderr",
     "output_type": "stream",
     "text": [
      "<ipython-input-573-173b9dbf85d5>:94: DeprecationWarning: np.asscalar(a) is deprecated since NumPy v1.16, use a.item() instead\n",
      "  self.output_activation_nn = self.output(np.asscalar(self.output_hidden_nn))\n",
      "<ipython-input-584-7926af1d4fe8>:7: DeprecationWarning: np.asscalar(a) is deprecated since NumPy v1.16, use a.item() instead\n",
      "  valid_error = valid_error + abs(predicted - np.asscalar(Y_valid[i]))\n"
     ]
    }
   ],
   "source": [
    "valid_error = 0\n",
    "for i in range(len(X_valid)):\n",
    "    res = obj.evaluate(X_valid[i])\n",
    "    predicted = 0\n",
    "    if res>0.5:\n",
    "        predicted = 1\n",
    "    valid_error = valid_error + abs(predicted - np.asscalar(Y_valid[i]))"
   ]
  },
  {
   "cell_type": "code",
   "execution_count": 585,
   "id": "russian-portal",
   "metadata": {},
   "outputs": [
    {
     "data": {
      "text/plain": [
       "0"
      ]
     },
     "execution_count": 585,
     "metadata": {},
     "output_type": "execute_result"
    }
   ],
   "source": [
    "valid_error"
   ]
  },
  {
   "cell_type": "code",
   "execution_count": 586,
   "id": "infrared-alert",
   "metadata": {},
   "outputs": [
    {
     "name": "stderr",
     "output_type": "stream",
     "text": [
      "<ipython-input-573-173b9dbf85d5>:94: DeprecationWarning: np.asscalar(a) is deprecated since NumPy v1.16, use a.item() instead\n",
      "  self.output_activation_nn = self.output(np.asscalar(self.output_hidden_nn))\n",
      "<ipython-input-586-b6a4fcfc7636>:7: DeprecationWarning: np.asscalar(a) is deprecated since NumPy v1.16, use a.item() instead\n",
      "  test_error = test_error + abs(predicted - np.asscalar(Y_test[i]))\n"
     ]
    }
   ],
   "source": [
    "test_error = 0\n",
    "for i in range(len(X_test)):\n",
    "    res = obj.evaluate(X_test[i])\n",
    "    predicted = 0\n",
    "    if res>0.5:\n",
    "        predicted = 1\n",
    "    test_error = test_error + abs(predicted - np.asscalar(Y_test[i]))"
   ]
  },
  {
   "cell_type": "code",
   "execution_count": 587,
   "id": "prostate-refrigerator",
   "metadata": {},
   "outputs": [
    {
     "data": {
      "text/plain": [
       "0"
      ]
     },
     "execution_count": 587,
     "metadata": {},
     "output_type": "execute_result"
    }
   ],
   "source": [
    "test_error"
   ]
  },
  {
   "cell_type": "markdown",
   "id": "maritime-leeds",
   "metadata": {},
   "source": [
    "The neural network was trained with one hidden layer with 4 neurons for this experiment. It was trained for 100000 epochs with a learning rate of 0.0001 a validation and test accuracy of 100% was achieved. The training data consisted of 175 samples, the test data was made up of 38 samples and 37 samples made up the validation data. The validation set was used to tune in the hyperparameters. This shows that the model was able to learn the decision boundary for blobs250 dataset perfectly. The loss curve shows convergence after a few iterations.This is not unexpected as the neural network can learn non-linear decsion decision boundaries and as hypothesized earlier this is approximately a linear boundary."
   ]
  },
  {
   "cell_type": "code",
   "execution_count": 588,
   "id": "precise-knight",
   "metadata": {},
   "outputs": [],
   "source": [
    "data = pd.read_csv(\"moons400(1).csv\")\n",
    "Y = data.loc[:,[\"Class\"]]\n",
    "X = data.loc[:, ['X0', 'X1']]\n",
    "X = X.values\n",
    "Y = Y.values.flatten()\n",
    "X_train, Y_train, X_test, Y_test, X_valid, Y_valid = data_split(X,Y)"
   ]
  },
  {
   "cell_type": "code",
   "execution_count": 637,
   "id": "banner-japan",
   "metadata": {},
   "outputs": [],
   "source": [
    "obj = NN(X_train,Y_train,1,[1],2,\"sigmoid\")"
   ]
  },
  {
   "cell_type": "code",
   "execution_count": 638,
   "id": "accepted-arrival",
   "metadata": {},
   "outputs": [
    {
     "name": "stderr",
     "output_type": "stream",
     "text": [
      "<ipython-input-573-173b9dbf85d5>:94: DeprecationWarning: np.asscalar(a) is deprecated since NumPy v1.16, use a.item() instead\n",
      "  self.output_activation_nn = self.output(np.asscalar(self.output_hidden_nn))\n"
     ]
    },
    {
     "data": {
      "image/png": "[encoded data removed]",
      "text/plain": [
       "<Figure size 432x288 with 1 Axes>"
      ]
     },
     "metadata": {
      "needs_background": "light"
     },
     "output_type": "display_data"
    }
   ],
   "source": [
    "obj.train(0.0001,200000)"
   ]
  },
  {
   "cell_type": "markdown",
   "id": "documentary-violation",
   "metadata": {},
   "source": [
    "Loss Curve"
   ]
  },
  {
   "cell_type": "code",
   "execution_count": 639,
   "id": "foreign-inspection",
   "metadata": {},
   "outputs": [
    {
     "name": "stderr",
     "output_type": "stream",
     "text": [
      "<ipython-input-573-173b9dbf85d5>:94: DeprecationWarning: np.asscalar(a) is deprecated since NumPy v1.16, use a.item() instead\n",
      "  self.output_activation_nn = self.output(np.asscalar(self.output_hidden_nn))\n",
      "<ipython-input-639-7926af1d4fe8>:7: DeprecationWarning: np.asscalar(a) is deprecated since NumPy v1.16, use a.item() instead\n",
      "  valid_error = valid_error + abs(predicted - np.asscalar(Y_valid[i]))\n"
     ]
    }
   ],
   "source": [
    "valid_error = 0\n",
    "for i in range(len(X_valid)):\n",
    "    res = obj.evaluate(X_valid[i])\n",
    "    predicted = 0\n",
    "    if res>0.5:\n",
    "        predicted = 1\n",
    "    valid_error = valid_error + abs(predicted - np.asscalar(Y_valid[i]))"
   ]
  },
  {
   "cell_type": "code",
   "execution_count": 640,
   "id": "revolutionary-directive",
   "metadata": {},
   "outputs": [
    {
     "data": {
      "text/plain": [
       "11"
      ]
     },
     "execution_count": 640,
     "metadata": {},
     "output_type": "execute_result"
    }
   ],
   "source": [
    "valid_error"
   ]
  },
  {
   "cell_type": "code",
   "execution_count": 641,
   "id": "dutch-synthesis",
   "metadata": {},
   "outputs": [
    {
     "name": "stderr",
     "output_type": "stream",
     "text": [
      "<ipython-input-573-173b9dbf85d5>:94: DeprecationWarning: np.asscalar(a) is deprecated since NumPy v1.16, use a.item() instead\n",
      "  self.output_activation_nn = self.output(np.asscalar(self.output_hidden_nn))\n",
      "<ipython-input-641-b6a4fcfc7636>:7: DeprecationWarning: np.asscalar(a) is deprecated since NumPy v1.16, use a.item() instead\n",
      "  test_error = test_error + abs(predicted - np.asscalar(Y_test[i]))\n"
     ]
    }
   ],
   "source": [
    "test_error = 0\n",
    "for i in range(len(X_test)):\n",
    "    res = obj.evaluate(X_test[i])\n",
    "    predicted = 0\n",
    "    if res>0.5:\n",
    "        predicted = 1\n",
    "    test_error = test_error + abs(predicted - np.asscalar(Y_test[i]))"
   ]
  },
  {
   "cell_type": "code",
   "execution_count": 642,
   "id": "swedish-warrant",
   "metadata": {},
   "outputs": [
    {
     "data": {
      "text/plain": [
       "16"
      ]
     },
     "execution_count": 642,
     "metadata": {},
     "output_type": "execute_result"
    }
   ],
   "source": [
    "test_error"
   ]
  },
  {
   "cell_type": "markdown",
   "id": "speaking-barrel",
   "metadata": {},
   "source": [
    "On the basis of above experiments when the neural network with one hidden layer was trained for 200000 epochs with a learning rate of 0.0001 a validation accuracy 82% and test accuracy of 74% was achieved. The training data consisted of 280 samples, the test data was made up of 60 samples and 60 samples made up the validation data. The validation set was used to tune in the hyperparameters. The results were lower than that for logistic regression, many attempts were made to further tune the hyperparameters for the given task but this is best accuracy that could be achieved. training for more epochs could possibly be a solution to this problem Furthermore, a convergence around 0.6 was observed for the loss."
   ]
  },
  {
   "cell_type": "markdown",
   "id": "institutional-immunology",
   "metadata": {},
   "source": [
    "## CIFAR-10 "
   ]
  },
  {
   "cell_type": "markdown",
   "id": "diverse-swing",
   "metadata": {},
   "source": [
    "In this experiment I trained my model on 5000 images of cat and truck from the CIFAR-10 dataset. A label of 1 was assigned to truck and a label of 0 was assigned to cat. One hidden with 20 neurons was used for this experiment. The test dataset consisted of 1000 images of cats and trucks and 986 images made up the validation dataset. Each image was turned into a vector of 1024 floats by averaging over the three channels and normalized by 255 to retrict the values to [0,1]. The validation dataset was used to yune the hyperparameters of the model."
   ]
  },
  {
   "cell_type": "code",
   "execution_count": 643,
   "id": "marine-return",
   "metadata": {},
   "outputs": [],
   "source": [
    "import os\n",
    "import pickle\n",
    "import numpy as np\n",
    "from PIL import Image\n",
    "import tensorflow as tf\n",
    "import random\n",
    "import time\n",
    "from tqdm import tqdm"
   ]
  },
  {
   "cell_type": "code",
   "execution_count": 644,
   "id": "ancient-category",
   "metadata": {},
   "outputs": [],
   "source": [
    "def unpickle(file):   \n",
    "    import pickle\n",
    "    with open(file, 'rb') as fo:       \n",
    "        dict = pickle.load(fo, encoding='bytes')   \n",
    "        return dict"
   ]
  },
  {
   "cell_type": "code",
   "execution_count": 646,
   "id": "julian-lending",
   "metadata": {},
   "outputs": [],
   "source": [
    "directory = \"/home/shubhanker/Desktop/Doubts/Deep Learning/cifar-10-python/cifar-10-batches-py/\"\n",
    "for i in range(1, 6):\n",
    "    file = directory+\"data_batch_\"+str(i) \n",
    "    dict_data = unpickle(file) \n",
    "    x_data = dict_data[b'data']  \n",
    "    y_data = np.array(dict_data[b\"labels\"])\n",
    "    if i == 1: \n",
    "        x_train = x_data  \n",
    "        y_train = y_data  \n",
    "    else:  \n",
    "        x_train = np.concatenate((x_train, x_data), axis = 0)   \n",
    "        y_train = np.concatenate((y_train, y_data), axis = 0) \n",
    "test_data_file = directory+\"test_batch\" \n",
    "dict_data_test = unpickle(test_data_file)\n",
    "data = dict_data_test[b\"data\"]\n",
    "x_test = data \n",
    "y_test = np.array(dict_data_test[b\"labels\"])"
   ]
  },
  {
   "cell_type": "code",
   "execution_count": 647,
   "id": "banner-hundred",
   "metadata": {},
   "outputs": [],
   "source": [
    "final_x_train = []\n",
    "final_y_train = []\n",
    "cat_count = 0\n",
    "truck_count = 0\n",
    "for i in range(len(x_train)):\n",
    "    if cat_count == truck_count and cat_count == 2500:\n",
    "        break\n",
    "    elif cat_count<2500 and y_train[i] == 3:\n",
    "        cat_count+=1\n",
    "        res = x_train[i].reshape(32,32,3)\n",
    "        img = np.mean(res, axis=2)\n",
    "        img = img / 255\n",
    "        img =  img.flatten()\n",
    "        final_x_train.append(img)\n",
    "        final_y_train.append(0)\n",
    "    elif truck_count<2500 and y_train[i] == 9:\n",
    "        truck_count+=1\n",
    "        res = x_train[i].reshape(32,32,3)\n",
    "        img = np.mean(res, axis=2)\n",
    "        img = img / 255\n",
    "        img =  img.flatten()\n",
    "        final_x_train.append(img)\n",
    "        final_y_train.append(1)\n",
    "            \n",
    "        "
   ]
  },
  {
   "cell_type": "code",
   "execution_count": 648,
   "id": "durable-shanghai",
   "metadata": {},
   "outputs": [],
   "source": [
    "final_x_test = []\n",
    "final_y_test = []\n",
    "cat_count = 0\n",
    "truck_count = 0\n",
    "for i in range(len(x_test)):\n",
    "    if cat_count == truck_count and cat_count == 500:\n",
    "        break\n",
    "    elif cat_count<500 and y_test[i] == 3:\n",
    "        cat_count+=1\n",
    "        res = x_test[i].reshape(32,32,3)\n",
    "        img = np.mean(res, axis=2)\n",
    "        img = img / 255\n",
    "        img =  img.flatten()\n",
    "        final_x_test.append(img)\n",
    "        final_y_test.append(0)\n",
    "    elif truck_count<500 and y_test[i] == 9:\n",
    "        truck_count+=1\n",
    "        res = x_test[i].reshape(32,32,3)\n",
    "        img = np.mean(res, axis=2)\n",
    "        img = img / 255\n",
    "        img =  img.flatten()\n",
    "        final_x_test.append(img)\n",
    "        final_y_test.append(1)\n",
    "            \n",
    "        "
   ]
  },
  {
   "cell_type": "code",
   "execution_count": 649,
   "id": "quantitative-palmer",
   "metadata": {},
   "outputs": [],
   "source": [
    "final_x_valid = []\n",
    "final_y_valid = []\n",
    "cat_count = 0\n",
    "truck_count = 0\n",
    "for j in range(i,len(x_test)):\n",
    "    if cat_count == truck_count and cat_count == 500:\n",
    "        break\n",
    "    elif cat_count<500 and y_test[j] == 3:\n",
    "        cat_count+=1\n",
    "        res = x_test[j].reshape(32,32,3)\n",
    "        img = np.mean(res, axis=2)\n",
    "        img = img / 255\n",
    "        img =  img.flatten()\n",
    "        final_x_valid.append(img)\n",
    "        final_y_valid.append(0)\n",
    "    elif truck_count<500 and y_test[j] == 9:\n",
    "        truck_count+=1\n",
    "        res = x_test[j].reshape(32,32,3)\n",
    "        img = np.mean(res, axis=2)\n",
    "        img = img / 255\n",
    "        img =  img.flatten()\n",
    "        final_x_valid.append(img)\n",
    "        final_y_valid.append(1)\n",
    "            \n",
    "        "
   ]
  },
  {
   "cell_type": "code",
   "execution_count": 650,
   "id": "northern-lithuania",
   "metadata": {},
   "outputs": [],
   "source": [
    "final_x_valid = np.array(final_x_valid)\n",
    "final_y_valid = np.array(final_y_valid)"
   ]
  },
  {
   "cell_type": "code",
   "execution_count": 651,
   "id": "governing-addition",
   "metadata": {},
   "outputs": [],
   "source": [
    "final_x_train = np.array(final_x_train)\n",
    "final_y_train = np.array(final_y_train)"
   ]
  },
  {
   "cell_type": "code",
   "execution_count": 652,
   "id": "sustained-elimination",
   "metadata": {},
   "outputs": [],
   "source": [
    "final_x_test = np.array(final_x_test)\n",
    "final_y_test = np.array(final_y_test)"
   ]
  },
  {
   "cell_type": "code",
   "execution_count": 653,
   "id": "complex-pleasure",
   "metadata": {},
   "outputs": [
    {
     "name": "stderr",
     "output_type": "stream",
     "text": [
      "<ipython-input-573-173b9dbf85d5>:94: DeprecationWarning: np.asscalar(a) is deprecated since NumPy v1.16, use a.item() instead\n",
      "  self.output_activation_nn = self.output(np.asscalar(self.output_hidden_nn))\n"
     ]
    },
    {
     "data": {
      "image/png": "[encoded data removed]",
      "text/plain": [
       "<Figure size 432x288 with 1 Axes>"
      ]
     },
     "metadata": {
      "needs_background": "light"
     },
     "output_type": "display_data"
    }
   ],
   "source": [
    "obj = NN(final_x_train,final_y_train,1,[20],1024,\"sigmoid\")\n",
    "obj.train(0.001,100000)"
   ]
  },
  {
   "cell_type": "markdown",
   "id": "temporal-fitting",
   "metadata": {},
   "source": [
    "Loss curve"
   ]
  },
  {
   "cell_type": "code",
   "execution_count": 654,
   "id": "functional-playing",
   "metadata": {},
   "outputs": [
    {
     "name": "stderr",
     "output_type": "stream",
     "text": [
      "<ipython-input-573-173b9dbf85d5>:94: DeprecationWarning: np.asscalar(a) is deprecated since NumPy v1.16, use a.item() instead\n",
      "  self.output_activation_nn = self.output(np.asscalar(self.output_hidden_nn))\n"
     ]
    }
   ],
   "source": [
    "valid_error = 0\n",
    "for i in range(len(final_x_valid)):\n",
    "    res = obj.evaluate(final_x_valid[i])\n",
    "    predicted = 0\n",
    "    if res>0.5:\n",
    "        predicted = 1\n",
    "    valid_error = valid_error + abs(predicted - final_y_valid[i])"
   ]
  },
  {
   "cell_type": "code",
   "execution_count": 655,
   "id": "abandoned-membership",
   "metadata": {},
   "outputs": [
    {
     "data": {
      "text/plain": [
       "270"
      ]
     },
     "execution_count": 655,
     "metadata": {},
     "output_type": "execute_result"
    }
   ],
   "source": [
    "valid_error"
   ]
  },
  {
   "cell_type": "code",
   "execution_count": 656,
   "id": "applied-bundle",
   "metadata": {},
   "outputs": [
    {
     "name": "stderr",
     "output_type": "stream",
     "text": [
      "<ipython-input-573-173b9dbf85d5>:94: DeprecationWarning: np.asscalar(a) is deprecated since NumPy v1.16, use a.item() instead\n",
      "  self.output_activation_nn = self.output(np.asscalar(self.output_hidden_nn))\n"
     ]
    }
   ],
   "source": [
    "test_error = 0\n",
    "for i in range(len(final_x_test)):\n",
    "    res = obj.evaluate(final_x_test[i])\n",
    "    predicted = 0\n",
    "    if res>0.5:\n",
    "        predicted = 1\n",
    "    test_error = test_error + abs(predicted - final_y_test[i])"
   ]
  },
  {
   "cell_type": "code",
   "execution_count": 657,
   "id": "packed-passport",
   "metadata": {},
   "outputs": [
    {
     "data": {
      "text/plain": [
       "278"
      ]
     },
     "execution_count": 657,
     "metadata": {},
     "output_type": "execute_result"
    }
   ],
   "source": [
    "test_error"
   ]
  },
  {
   "cell_type": "code",
   "execution_count": 658,
   "id": "quality-yield",
   "metadata": {},
   "outputs": [],
   "source": [
    "accuracy =  (len(final_x_test)-test_error)/len(final_x_test)"
   ]
  },
  {
   "cell_type": "code",
   "execution_count": 659,
   "id": "refined-fight",
   "metadata": {},
   "outputs": [
    {
     "data": {
      "text/plain": [
       "0.722"
      ]
     },
     "execution_count": 659,
     "metadata": {},
     "output_type": "execute_result"
    }
   ],
   "source": [
    "accuracy"
   ]
  },
  {
   "cell_type": "markdown",
   "id": "innovative-discrimination",
   "metadata": {},
   "source": [
    "An experiment was carried out with one hidden layer with 20 layers, the best results that were obtained on validation dataset came from a model that was trained with a learning rate of 0.001 for 100000 epochs. When tested on the test data the model gave a performance of 72.2%. Thus the model was able to perform decently on this task, however the performance is till below the state of the art for CIFAR-10. The loss curve shows a convergence at around 0.8."
   ]
  },
  {
   "cell_type": "code",
   "execution_count": 660,
   "id": "brave-boating",
   "metadata": {},
   "outputs": [
    {
     "name": "stderr",
     "output_type": "stream",
     "text": [
      "<ipython-input-573-173b9dbf85d5>:94: DeprecationWarning: np.asscalar(a) is deprecated since NumPy v1.16, use a.item() instead\n",
      "  self.output_activation_nn = self.output(np.asscalar(self.output_hidden_nn))\n"
     ]
    },
    {
     "data": {
      "image/png": "[encoded data removed]",
      "text/plain": [
       "<Figure size 432x288 with 1 Axes>"
      ]
     },
     "metadata": {
      "needs_background": "light"
     },
     "output_type": "display_data"
    }
   ],
   "source": [
    "obj = NN(final_x_train,final_y_train,3,[10,3,2],1024,\"relu\")\n",
    "obj.train(0.001,30000)"
   ]
  },
  {
   "cell_type": "markdown",
   "id": "selected-canberra",
   "metadata": {},
   "source": [
    "Loss Curve"
   ]
  },
  {
   "cell_type": "code",
   "execution_count": 661,
   "id": "operating-thermal",
   "metadata": {},
   "outputs": [
    {
     "name": "stderr",
     "output_type": "stream",
     "text": [
      "<ipython-input-573-173b9dbf85d5>:94: DeprecationWarning: np.asscalar(a) is deprecated since NumPy v1.16, use a.item() instead\n",
      "  self.output_activation_nn = self.output(np.asscalar(self.output_hidden_nn))\n"
     ]
    }
   ],
   "source": [
    "valid_error = 0\n",
    "for i in range(len(final_x_valid)):\n",
    "    res = obj.evaluate(final_x_valid[i])\n",
    "#     print(res)\n",
    "    predicted = 0\n",
    "    if res>0.5:\n",
    "        predicted = 1\n",
    "    valid_error = valid_error + abs(predicted - final_y_valid[i])"
   ]
  },
  {
   "cell_type": "code",
   "execution_count": 662,
   "id": "eight-ecuador",
   "metadata": {},
   "outputs": [
    {
     "data": {
      "text/plain": [
       "402"
      ]
     },
     "execution_count": 662,
     "metadata": {},
     "output_type": "execute_result"
    }
   ],
   "source": [
    "valid_error"
   ]
  },
  {
   "cell_type": "code",
   "execution_count": 663,
   "id": "warming-roman",
   "metadata": {},
   "outputs": [
    {
     "name": "stderr",
     "output_type": "stream",
     "text": [
      "<ipython-input-573-173b9dbf85d5>:94: DeprecationWarning: np.asscalar(a) is deprecated since NumPy v1.16, use a.item() instead\n",
      "  self.output_activation_nn = self.output(np.asscalar(self.output_hidden_nn))\n"
     ]
    }
   ],
   "source": [
    "test_error = 0\n",
    "for i in range(len(final_x_test)):\n",
    "    res = obj.evaluate(final_x_test[i])\n",
    "    predicted = 0\n",
    "    if res>0.5:\n",
    "        predicted = 1\n",
    "    test_error = test_error + abs(predicted - final_y_test[i])"
   ]
  },
  {
   "cell_type": "code",
   "execution_count": 664,
   "id": "premium-giving",
   "metadata": {},
   "outputs": [
    {
     "data": {
      "text/plain": [
       "404"
      ]
     },
     "execution_count": 664,
     "metadata": {},
     "output_type": "execute_result"
    }
   ],
   "source": [
    "test_error"
   ]
  },
  {
   "cell_type": "markdown",
   "id": "sporting-microphone",
   "metadata": {},
   "source": [
    "As an enhancement, I used the relu activation function, this decision was driven by the fact that sigmoid saturates when handling high dimensional inputs and thus learnability of the model is impacted. Furthermore, I also added multiple layers to the model which led to surprisngly lower accuracy of 60%, thus there was a lower performnace achieved by these layers. experiments not shown here were also carried out with just one hidden layer  and the relu activation function but they did not perform as well as expected with accuracies ranging between 60%-62%. The validation set was used to find the best performing model which was tested on the test data."
   ]
  },
  {
   "cell_type": "markdown",
   "id": "packed-typing",
   "metadata": {},
   "source": [
    "## References"
   ]
  },
  {
   "cell_type": "markdown",
   "id": "standing-subscription",
   "metadata": {},
   "source": [
    "All the information, code and concepts used in this assignment was drawn from the lectures. The code was relu implementation was drawn from the pytorch documentation of relu6. This was done because relu was overflowing for multiple layers. The code for reading the CIFAR-10 files was taken from https://medium.com/@rhythm10/image-preprocessing-for-cifar-10-dataset-f2b5cdb221bb"
   ]
  }
 ],
 "metadata": {
  "kernelspec": {
   "display_name": "Python 3",
   "language": "python",
   "name": "python3"
  },
  "language_info": {
   "codemirror_mode": {
    "name": "ipython",
    "version": 3
   },
   "file_extension": ".py",
   "mimetype": "text/x-python",
   "name": "python",
   "nbconvert_exporter": "python",
   "pygments_lexer": "ipython3",
   "version": "3.8.3"
  }
 },
 "nbformat": 4,
 "nbformat_minor": 5
}
